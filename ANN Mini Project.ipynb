{
 "cells": [
  {
   "cell_type": "code",
   "execution_count": null,
   "id": "d898a394",
   "metadata": {},
   "outputs": [],
   "source": [
    "import os\n",
    "import numpy as np\n",
    "import pandas as pd\n",
    "import cv2\n",
    "from sklearn.model_selection import train_test_split\n",
    "from tensorflow.keras.applications import ResNet50\n",
    "from tensorflow.keras.models import Sequential\n",
    "from tensorflow.keras.layers import Dense, Flatten\n",
    "from tensorflow.keras.optimizers import SGD, Adam, RMSprop"
   ]
  },
  {
   "cell_type": "code",
   "execution_count": 33,
   "id": "1c5cf768",
   "metadata": {},
   "outputs": [],
   "source": [
    "train_images_dir = '/Users/admin/Downloads/data/training_images'\n",
    "annotations_path = os.path.join(train_images_dir, '/Users/admin/Downloads/data/train_solution_bounding_boxes (1).csv')"
   ]
  },
  {
   "cell_type": "code",
   "execution_count": 34,
   "id": "2a78108e",
   "metadata": {},
   "outputs": [],
   "source": [
    "annotations_df = pd.read_csv(annotations_path)"
   ]
  },
  {
   "cell_type": "code",
   "execution_count": 39,
   "id": "0dd3270a",
   "metadata": {},
   "outputs": [],
   "source": [
    "def load_images_and_annotations(image_dir, annotations_df):\n",
    "    images = []\n",
    "    labels = []\n",
    "\n",
    "    for idx, row in annotations_df.iterrows():\n",
    "        img_path = os.path.join(image_dir, row['image'])\n",
    "        img = cv2.imread(img_path)\n",
    "        \n",
    "        # Check if the image is loaded successfully\n",
    "        if img is None:\n",
    "            print(f\"Error: Failed to load image {img_path}\")\n",
    "            continue\n",
    "        \n",
    "        # Resize and normalize the image\n",
    "        img = cv2.resize(img, (224, 224))  # Resize image to fit ResNet50 input size\n",
    "        img = img / 255.0  # Normalize pixel values\n",
    "        images.append(img)\n",
    "        \n",
    "        # Extract bounding box coordinates\n",
    "        label = [row['xmin'], row['ymin'], row['xmax'], row['ymax']]\n",
    "        labels.append(label)\n",
    "\n",
    "    return np.array(images), np.array(labels)\n",
    "\n",
    "# Load images and annotations\n",
    "train_images, train_labels = load_images_and_annotations(train_images_dir, annotations_df)\n"
   ]
  },
  {
   "cell_type": "code",
   "execution_count": 40,
   "id": "bea53a5d",
   "metadata": {},
   "outputs": [],
   "source": [
    "# Load images and annotations\n",
    "train_images, train_labels = load_images_and_annotations(train_images_dir, annotations_df)\n",
    "\n",
    "# Split data into training and validation sets\n",
    "train_images, val_images, train_labels, val_labels = train_test_split(train_images, train_labels, test_size=0.2, random_state=42)\n"
   ]
  },
  {
   "cell_type": "code",
   "execution_count": 41,
   "id": "d9868e05",
   "metadata": {},
   "outputs": [
    {
     "name": "stdout",
     "output_type": "stream",
     "text": [
      "Downloading data from https://storage.googleapis.com/tensorflow/keras-applications/resnet/resnet50_weights_tf_dim_ordering_tf_kernels_notop.h5\n",
      "94765736/94765736 [==============================] - 8s 0us/step\n",
      "Model: \"sequential\"\n",
      "_________________________________________________________________\n",
      " Layer (type)                Output Shape              Param #   \n",
      "=================================================================\n",
      " resnet50 (Functional)       (None, 7, 7, 2048)        23587712  \n",
      "                                                                 \n",
      " flatten (Flatten)           (None, 100352)            0         \n",
      "                                                                 \n",
      " dense (Dense)               (None, 512)               51380736  \n",
      "                                                                 \n",
      " dense_1 (Dense)             (None, 4)                 2052      \n",
      "                                                                 \n",
      "=================================================================\n",
      "Total params: 74970500 (285.99 MB)\n",
      "Trainable params: 51382788 (196.01 MB)\n",
      "Non-trainable params: 23587712 (89.98 MB)\n",
      "_________________________________________________________________\n"
     ]
    }
   ],
   "source": [
    "# Step 2: Build the Model\n",
    "\n",
    "# Build model\n",
    "def build_model():\n",
    "    base_model = ResNet50(weights='imagenet', include_top=False, input_shape=(224, 224, 3))\n",
    "    for layer in base_model.layers:\n",
    "        layer.trainable = False\n",
    "    \n",
    "    model = Sequential([\n",
    "        base_model,\n",
    "        Flatten(),\n",
    "        Dense(512, activation='relu'),\n",
    "        Dense(4)  # 4 output nodes for bounding box coordinates (x1, y1, x2, y2)\n",
    "    ])\n",
    "    return model\n",
    "\n",
    "model = build_model()\n",
    "model.summary()\n"
   ]
  },
  {
   "cell_type": "code",
   "execution_count": 42,
   "id": "ac1ff627",
   "metadata": {},
   "outputs": [
    {
     "name": "stderr",
     "output_type": "stream",
     "text": [
      "WARNING:absl:`lr` is deprecated in Keras optimizer, please use `learning_rate` or use the legacy optimizer, e.g.,tf.keras.optimizers.legacy.SGD.\n"
     ]
    },
    {
     "name": "stdout",
     "output_type": "stream",
     "text": [
      "Training with optimizer: SGD\n",
      "Epoch 1/10\n",
      "14/14 [==============================] - 73s 5s/step - loss: nan - val_loss: nan\n",
      "Epoch 2/10\n",
      "14/14 [==============================] - 70s 5s/step - loss: nan - val_loss: nan\n",
      "Epoch 3/10\n",
      "14/14 [==============================] - 70s 5s/step - loss: nan - val_loss: nan\n",
      "Epoch 4/10\n",
      "14/14 [==============================] - 81s 6s/step - loss: nan - val_loss: nan\n",
      "Epoch 5/10\n",
      "14/14 [==============================] - 86s 6s/step - loss: nan - val_loss: nan\n",
      "Epoch 6/10\n",
      "14/14 [==============================] - 74s 5s/step - loss: nan - val_loss: nan\n",
      "Epoch 7/10\n",
      "14/14 [==============================] - 71s 5s/step - loss: nan - val_loss: nan\n",
      "Epoch 8/10\n",
      "14/14 [==============================] - 86s 6s/step - loss: nan - val_loss: nan\n",
      "Epoch 9/10\n",
      "14/14 [==============================] - 117s 8s/step - loss: nan - val_loss: nan\n",
      "Epoch 10/10\n",
      "14/14 [==============================] - 108s 8s/step - loss: nan - val_loss: nan\n",
      "Training with optimizer: Adam\n",
      "Epoch 1/10\n",
      "14/14 [==============================] - 122s 8s/step - loss: 42017.2188 - val_loss: 20367.5059\n",
      "Epoch 2/10\n",
      "14/14 [==============================] - 117s 8s/step - loss: 23071.7363 - val_loss: 23527.3242\n",
      "Epoch 3/10\n",
      "14/14 [==============================] - 92s 7s/step - loss: 23203.3203 - val_loss: 20103.9023\n",
      "Epoch 4/10\n",
      "14/14 [==============================] - 82s 6s/step - loss: 22455.1602 - val_loss: 21448.9961\n",
      "Epoch 5/10\n",
      "14/14 [==============================] - 81s 6s/step - loss: 22454.6973 - val_loss: 19935.5762\n",
      "Epoch 6/10\n",
      "14/14 [==============================] - 82s 6s/step - loss: 22635.5508 - val_loss: 22082.9043\n",
      "Epoch 7/10\n",
      "14/14 [==============================] - 81s 6s/step - loss: 22571.0742 - val_loss: 20836.8008\n",
      "Epoch 8/10\n",
      "14/14 [==============================] - 79s 6s/step - loss: 22353.5547 - val_loss: 21531.9375\n",
      "Epoch 9/10\n",
      "14/14 [==============================] - 83s 6s/step - loss: 22423.2441 - val_loss: 19433.7715\n",
      "Epoch 10/10\n",
      "14/14 [==============================] - 79s 6s/step - loss: 22132.7598 - val_loss: 19982.9082\n",
      "Training with optimizer: RMSprop\n",
      "Epoch 1/10\n",
      "14/14 [==============================] - 81s 6s/step - loss: 29295.8906 - val_loss: 20188.0801\n",
      "Epoch 2/10\n",
      "14/14 [==============================] - 75s 5s/step - loss: 23141.2930 - val_loss: 24443.9727\n",
      "Epoch 3/10\n",
      "14/14 [==============================] - 85s 6s/step - loss: 23358.7363 - val_loss: 19439.1562\n",
      "Epoch 4/10\n",
      "14/14 [==============================] - 80s 6s/step - loss: 23811.0898 - val_loss: 23041.2188\n",
      "Epoch 5/10\n",
      "14/14 [==============================] - 76s 5s/step - loss: 23520.2832 - val_loss: 22420.3848\n",
      "Epoch 6/10\n",
      "14/14 [==============================] - 75s 5s/step - loss: 23398.3125 - val_loss: 20094.2129\n",
      "Epoch 7/10\n",
      "14/14 [==============================] - 76s 6s/step - loss: 22965.9941 - val_loss: 19740.4785\n",
      "Epoch 8/10\n",
      "14/14 [==============================] - 76s 6s/step - loss: 23407.0801 - val_loss: 19611.0664\n",
      "Epoch 9/10\n",
      "14/14 [==============================] - 75s 5s/step - loss: 22165.3398 - val_loss: 20132.0215\n",
      "Epoch 10/10\n",
      "14/14 [==============================] - 75s 5s/step - loss: 22618.3555 - val_loss: 19447.1426\n"
     ]
    }
   ],
   "source": [
    "\n",
    "# Step 3: Train the Model with Different Optimizers\n",
    "\n",
    "# Define optimizers\n",
    "optimizers = {\n",
    "    'SGD': SGD(lr=0.001),\n",
    "    'Adam': Adam(),\n",
    "    'RMSprop': RMSprop()\n",
    "}\n",
    "\n",
    "# Train model with different optimizers\n",
    "results = {}\n",
    "for optimizer_name, optimizer in optimizers.items():\n",
    "    print(f\"Training with optimizer: {optimizer_name}\")\n",
    "    model = build_model()\n",
    "    model.compile(optimizer=optimizer, loss='mse')  # Mean Squared Error loss for bounding box regression\n",
    "    history = model.fit(train_images, train_labels, epochs=10, validation_data=(val_images, val_labels))\n",
    "    results[optimizer_name] = history"
   ]
  },
  {
   "cell_type": "code",
   "execution_count": 45,
   "id": "de0f1148",
   "metadata": {},
   "outputs": [
    {
     "name": "stdout",
     "output_type": "stream",
     "text": [
      "\n",
      "Optimizer: SGD\n",
      "Final Training Loss: nan\n",
      "Final Validation Loss: nan\n",
      "\n",
      "Optimizer: Adam\n",
      "Final Training Loss: 22132.759765625\n",
      "Final Validation Loss: 19982.908203125\n",
      "\n",
      "Optimizer: RMSprop\n",
      "Final Training Loss: 22618.35546875\n",
      "Final Validation Loss: 19447.142578125\n"
     ]
    }
   ],
   "source": [
    "# Evaluate and compare results\n",
    "for optimizer_name, history in results.items():\n",
    "    print(f\"\\nOptimizer: {optimizer_name}\")\n",
    "    print(\"Final Training Loss:\", history.history['loss'][-1])\n",
    "    print(\"Final Validation Loss:\", history.history['val_loss'][-1])"
   ]
  }
 ],
 "metadata": {
  "kernelspec": {
   "display_name": "Python 3 (ipykernel)",
   "language": "python",
   "name": "python3"
  },
  "language_info": {
   "codemirror_mode": {
    "name": "ipython",
    "version": 3
   },
   "file_extension": ".py",
   "mimetype": "text/x-python",
   "name": "python",
   "nbconvert_exporter": "python",
   "pygments_lexer": "ipython3",
   "version": "3.11.4"
  }
 },
 "nbformat": 4,
 "nbformat_minor": 5
}
